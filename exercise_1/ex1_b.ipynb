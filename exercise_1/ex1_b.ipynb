{
 "cells": [
  {
   "cell_type": "code",
   "execution_count": 1,
   "id": "4bcb49ba",
   "metadata": {},
   "outputs": [],
   "source": [
    "import numpy as np\n",
    "from scipy.optimize import linprog"
   ]
  },
  {
   "cell_type": "code",
   "execution_count": 24,
   "id": "432feca2",
   "metadata": {},
   "outputs": [
    {
     "name": "stdout",
     "output_type": "stream",
     "text": [
      "intersection_point: ('Y', array([ 0.        , -0.12189441,  0.23835404,  0.        ]))\n"
     ]
    }
   ],
   "source": [
    "import numpy as np\n",
    "\n",
    "def affine_subspaces_intersection(points1, points2):\n",
    "    # Calculate the reference points p and q\n",
    "    p = points1[0]\n",
    "    q = points2[0]\n",
    "\n",
    "    # Calculate the direction vectors for both subspaces (A and B matrices)\n",
    "    A = np.array(points1[1:]) - p\n",
    "    B = np.array(points2[1:]) - q\n",
    "    \n",
    "    # Project q onto the first affine subspace\n",
    "    A_pseudoinv = np.linalg.pinv(A.T)\n",
    "    q_proj = p + A.T @ A_pseudoinv @ (q - p)\n",
    "    \n",
    "    # Create the matrix C\n",
    "    C = np.vstack((A, -B))\n",
    "    C_transpose = C.T\n",
    "\n",
    "    # Solve the linear system C * z = q - p\n",
    "    try:\n",
    "#         z, residuals, rank, s = np.linalg.lstsq(C_transpose, q - p, rcond=None)\n",
    "        z, residuals, rank, s = np.linalg.lstsq(C_transpose, q_proj - p, rcond=None)\n",
    "    except ValueError:\n",
    "        return 'N', None\n",
    "    \n",
    "    # Check if the system has a unique solution and if the residuals are close to zero\n",
    "    if rank == np.linalg.matrix_rank(np.hstack((C.T, (q - p).reshape(-1, 1)))) and np.all(np.isclose(residuals, 0)):\n",
    "        # Separate t and u from z\n",
    "        t = z[:A.shape[0]]\n",
    "        u = z[A.shape[0]:]\n",
    "\n",
    "        # Calculate the intersection point x\n",
    "        x = p + A.T @ t\n",
    "        return 'Y', x\n",
    "    else:\n",
    "        return 'N', None\n",
    "\n",
    "# Example usage\n",
    "points1 = np.array([\n",
    "    [0, 0, 0, 0],\n",
    "    [0, 0, 1, 0], \n",
    "    [0, 1, 0, 0]\n",
    "])\n",
    "\n",
    "points2 = np.array([\n",
    "    [0, 3, 8, 0],\n",
    "    [0, 1, 2, 5], \n",
    "    [0, 3, 3, 1],\n",
    "    [0, -2, 1, 1]\n",
    "])\n",
    "\n",
    "intersection_point = affine_subspaces_intersection(points1, points2)\n",
    "print('intersection_point:', intersection_point)"
   ]
  },
  {
   "cell_type": "code",
   "execution_count": 19,
   "id": "84d4d357",
   "metadata": {},
   "outputs": [
    {
     "name": "stdout",
     "output_type": "stream",
     "text": [
      "p: [0 0 0 0]\n",
      "q: [0 3 8 0]\n",
      "p-q: [ 0 -3 -8  0]\n",
      "A: [[0 0 1 0]\n",
      " [0 1 0 0]] shape (2, 4)\n",
      "B: [[ 0 -2 -6  5]\n",
      " [ 0  0 -5  1]\n",
      " [ 0 -5 -7  1]] shape (3, 4)\n",
      "independent_indices_A: [0 1]\n",
      "A: [[0 0 1 0]\n",
      " [0 1 0 0]] shape (2, 4)\n",
      "independent_indices_B: [0 1 2]\n",
      "-B: [[ 0  2  6 -5]\n",
      " [ 0  0  5 -1]\n",
      " [ 0  5  7 -1]] shape (3, 4)\n",
      "C: [[ 0  0  1  0]\n",
      " [ 0  1  0  0]\n",
      " [ 0  2  6 -5]\n",
      " [ 0  0  5 -1]\n",
      " [ 0  5  7 -1]]\n",
      "C transpose: [[ 0  0  0  0  0]\n",
      " [ 0  1  2  0  5]\n",
      " [ 1  0  6  5  7]\n",
      " [ 0  0 -5 -1 -1]]\n",
      "(4, 5) , (4,)\n",
      "z: [ 0.23835404 -0.12189441 -0.32893375  0.88871636  0.75595238]\n",
      "residuals: []\n",
      "rank: 3 ,  5\n",
      "t: [ 0.23835404 -0.12189441]\n",
      "u: [-0.32893375  0.88871636  0.75595238]\n",
      "intersection_point: [ 0.         -0.12189441  0.23835404  0.        ]\n"
     ]
    }
   ],
   "source": [
    "def affine_subspaces_intersection(points1, points2):\n",
    "    # Calculate the reference points p and q\n",
    "    p = points1[0]\n",
    "    q = points2[0]\n",
    "    print('p:', p)\n",
    "    print('q:', q)\n",
    "    print('p-q:', p-q)\n",
    "    \n",
    "    # Calculate the direction vectors for both subspaces (A and B matrices)\n",
    "    A = np.array(points1[1:]) - p\n",
    "    B = np.array(points2[1:]) - q\n",
    "    print('A:', A, 'shape', A.shape)\n",
    "    print('B:', B, 'shape', B.shape)\n",
    "    \n",
    "    # Remove linearly dependent vectors from A\n",
    "    Q_A, R_A = np.linalg.qr(A.T)\n",
    "    independent_indices_A = np.where(np.abs(np.diagonal(R_A)) > 1e-10)[0]\n",
    "    A = A[independent_indices_A]\n",
    "    print('independent_indices_A:', independent_indices_A)\n",
    "    print('A:', A, 'shape', A.shape)\n",
    "\n",
    "    # Remove linearly dependent vectors from B\n",
    "    Q_B, R_B = np.linalg.qr(B.T)\n",
    "    independent_indices_B = np.where(np.abs(np.diagonal(R_B)) > 1e-10)[0]\n",
    "    B = B[independent_indices_B]\n",
    "    print('independent_indices_B:', independent_indices_B)\n",
    "    print('-B:', -B, 'shape', B.shape)\n",
    "    \n",
    "    # Create the matrix C\n",
    "    C = np.vstack((A, -B))\n",
    "    C_transpose = C.T\n",
    "    \n",
    "    print('C:', C)\n",
    "    print('C transpose:', C_transpose)\n",
    "    \n",
    "    print(C_transpose.shape, ',', (q - p).shape)\n",
    "\n",
    "    # Solve the linear system C * z = q - p\n",
    "    z, residuals, rank, s = np.linalg.lstsq(C_transpose, q - p, rcond=None)\n",
    "    print('z:', z)\n",
    "    print('residuals:', residuals)\n",
    "    print('rank:', rank, ', ', C_transpose.shape[1])\n",
    "\n",
    "    min_rank = min(A.shape[0], B.shape[0])  # <-- Adjusted rank check\n",
    "    if rank == np.linalg.matrix_rank(np.hstack((C.T, (q - p).reshape(-1, 1)))) and np.all(np.isclose(residuals, 0)):\n",
    "        # Separate t and u from z\n",
    "        t = z[:A.shape[0]]\n",
    "        u = z[A.shape[0]:]\n",
    "        \n",
    "        print('t:', t)\n",
    "        print('u:', u)\n",
    "\n",
    "        # Calculate the intersection point x\n",
    "        x = p + A.T @ t\n",
    "        return x\n",
    "    else:\n",
    "        return None\n",
    "\n",
    "# Example usage\n",
    "# points1 = np.array([\n",
    "#     [0, 0, 0],\n",
    "#     [0, 1, 1],\n",
    "#     [0, 2, 2]\n",
    "# ])\n",
    "\n",
    "# points2 = np.array([\n",
    "#     [0, 1, 0],\n",
    "#     [0, 0, 1]\n",
    "# ])\n",
    "\n",
    "# points1 = np.array([\n",
    "#     [0, 0, 0],\n",
    "#     [0, 1, 1]\n",
    "# ])\n",
    "\n",
    "# points2 = np.array([\n",
    "#     [1, 1, 0],\n",
    "#     [1, 0, 1]\n",
    "# ])\n",
    "\n",
    "points1 = np.array([\n",
    "    [0, 0, 0, 0],\n",
    "    [0, 0, 1, 0], \n",
    "    [0, 1, 0, 0]\n",
    "])\n",
    "\n",
    "points2 = np.array([\n",
    "    [0, 3, 8, 0],\n",
    "    [0, 1, 2, 5], \n",
    "    [0, 3, 3, 1],\n",
    "    [0, -2, 1, 1]\n",
    "])\n",
    "\n",
    "intersection_point = affine_subspaces_intersection(points1, points2)\n",
    "print('intersection_point:', intersection_point)\n"
   ]
  },
  {
   "cell_type": "code",
   "execution_count": 47,
   "id": "401f4ceb",
   "metadata": {},
   "outputs": [
    {
     "data": {
      "text/plain": [
       "True"
      ]
     },
     "execution_count": 47,
     "metadata": {},
     "output_type": "execute_result"
    }
   ],
   "source": [
    "1.23259516e-32 < 1e-08"
   ]
  },
  {
   "cell_type": "code",
   "execution_count": 2,
   "id": "b69ed784",
   "metadata": {},
   "outputs": [],
   "source": [
    "def affine_subspace(points):\n",
    "    # Convert the input list of points to a NumPy array\n",
    "    points = np.array(points)\n",
    "\n",
    "    # Check if there are at least two points\n",
    "    if len(points) < 2:\n",
    "        raise ValueError(\"At least two points are required to define an affine subspace.\")\n",
    "\n",
    "    # Calculate the direction vectors by subtracting the first point from the rest of the points\n",
    "    direction_vectors = points[1:] - points[0]\n",
    "\n",
    "    # Check if the direction vectors are linearly independent\n",
    "    rank = np.linalg.matrix_rank(direction_vectors)\n",
    "\n",
    "    if rank != len(direction_vectors):\n",
    "        raise ValueError(\"The direction vectors must be linearly independent.\")\n",
    "\n",
    "    return (points[0], direction_vectors)"
   ]
  },
  {
   "cell_type": "code",
   "execution_count": 3,
   "id": "39f0228d",
   "metadata": {},
   "outputs": [],
   "source": [
    "def find_intersection(affine_subspace_A, affine_subspace_B):\n",
    "    origin_A, direction_vectors_A = affine_subspace_A\n",
    "    origin_B, direction_vectors_B = affine_subspace_B\n",
    "    \n",
    "    A = np.block([[direction_vectors_A, -direction_vectors_B]])\n",
    "\n",
    "    origin_diff = origin_B - origin_A\n",
    "\n",
    "    # Set the objective function: minimize the L1-norm of the coefficients\n",
    "    c = np.concatenate((np.ones(direction_vectors_A.shape[1]), np.ones(direction_vectors_B.shape[1])))\n",
    "\n",
    "    # Set the equality constraint matrix and vector\n",
    "    A_eq = np.block([[A]])\n",
    "    b_eq = np.block([origin_diff])\n",
    "\n",
    "    # Set the bounds for the coefficients\n",
    "    bounds = [(0, None) for _ in range(direction_vectors_A.shape[1] + direction_vectors_B.shape[1])]\n",
    "\n",
    "    # Solve the linear program\n",
    "    res = linprog(c, A_eq=A_eq, b_eq=b_eq, bounds=bounds)\n",
    "\n",
    "    if res.success:\n",
    "        # If the linear program converges, calculate the intersection point\n",
    "        intersection_point = origin_A + np.dot(direction_vectors_A, res.x[:direction_vectors_A.shape[1]])\n",
    "        return intersection_point\n",
    "    else:\n",
    "        return None"
   ]
  },
  {
   "cell_type": "code",
   "execution_count": 11,
   "id": "4723220d",
   "metadata": {},
   "outputs": [
    {
     "name": "stdout",
     "output_type": "stream",
     "text": [
      "Enter the dimension of the space (m): 3\n",
      "Enter the number of points (n): 2\n",
      "Enter point 1 (3 coordinates, separated by spaces): 0 0 0\n",
      "Enter point 2 (3 coordinates, separated by spaces): 0 1 1\n",
      "The affine subspace is represented as a translation of the following subspace:\n",
      "Origin: [0. 0. 0.]\n",
      "Direction Vectors: [[0. 1. 1.]]\n",
      "[[0. 1. 1.]]\n"
     ]
    }
   ],
   "source": [
    "m = int(input(\"Enter the dimension of the space (m): \"))\n",
    "n = int(input(\"Enter the number of points (n): \"))\n",
    "\n",
    "points = []\n",
    "for _ in range(n):\n",
    "    point = np.array(list(map(float, input(f\"Enter point {_ + 1} ({m} coordinates, separated by spaces): \").split())))\n",
    "    points.append(point)\n",
    "\n",
    "origin, direction_vectors = affine_subspace(points)\n",
    "print(\"The affine subspace is represented as a translation of the following subspace:\")\n",
    "print(f\"Origin: {origin}\")\n",
    "print(f\"Direction Vectors: {direction_vectors}\")"
   ]
  },
  {
   "cell_type": "code",
   "execution_count": 12,
   "id": "ae1e5610",
   "metadata": {},
   "outputs": [
    {
     "name": "stdout",
     "output_type": "stream",
     "text": [
      "Enter the dimension of the space (m): 3\n",
      "Enter the number of points (n): 2\n",
      "Enter point 1 (3 coordinates, separated by spaces): 0 1 0\n",
      "Enter point 2 (3 coordinates, separated by spaces): 0 0 1\n",
      "The affine subspace is represented as a translation of the following subspace:\n",
      "Origin: [0. 0. 0.]\n",
      "Direction Vectors: [[ 0. -1.  1.]]\n",
      "[[ 0. -1.  1.]]\n"
     ]
    }
   ],
   "source": [
    "m = int(input(\"Enter the dimension of the space (m): \"))\n",
    "n = int(input(\"Enter the number of points (n): \"))\n",
    "\n",
    "points = []\n",
    "for _ in range(n):\n",
    "    point = np.array(list(map(float, input(f\"Enter point {_ + 1} ({m} coordinates, separated by spaces): \").split())))\n",
    "    points.append(point)\n",
    "\n",
    "origin_b, direction_vectors_b = affine_subspace(points)\n",
    "print(\"The affine subspace is represented as a translation of the following subspace:\")\n",
    "print(f\"Origin: {origin}\")\n",
    "print(f\"Direction Vectors: {direction_vectors_b}\")"
   ]
  },
  {
   "cell_type": "code",
   "execution_count": 4,
   "id": "8e2f6209",
   "metadata": {},
   "outputs": [
    {
     "ename": "ValueError",
     "evalue": "Invalid input for linprog: b_eq must be a 1-D array; b_eq must not have more than one non-singleton dimension and the number of rows in A_eq must equal the number of values in b_eq",
     "output_type": "error",
     "traceback": [
      "\u001b[0;31m---------------------------------------------------------------------------\u001b[0m",
      "\u001b[0;31mValueError\u001b[0m                                Traceback (most recent call last)",
      "Cell \u001b[0;32mIn[4], line 5\u001b[0m\n\u001b[1;32m      2\u001b[0m affine_subspace_A \u001b[38;5;241m=\u001b[39m (np\u001b[38;5;241m.\u001b[39marray([\u001b[38;5;241m0\u001b[39m, \u001b[38;5;241m0\u001b[39m, \u001b[38;5;241m0\u001b[39m]), np\u001b[38;5;241m.\u001b[39marray([[\u001b[38;5;241m0\u001b[39m, \u001b[38;5;241m1\u001b[39m, \u001b[38;5;241m1\u001b[39m]]))\n\u001b[1;32m      3\u001b[0m affine_subspace_B \u001b[38;5;241m=\u001b[39m (np\u001b[38;5;241m.\u001b[39marray([\u001b[38;5;241m0\u001b[39m, \u001b[38;5;241m0\u001b[39m, \u001b[38;5;241m0\u001b[39m]), np\u001b[38;5;241m.\u001b[39marray([[\u001b[38;5;241m0\u001b[39m, \u001b[38;5;241m-\u001b[39m\u001b[38;5;241m1\u001b[39m, \u001b[38;5;241m1\u001b[39m]]))\n\u001b[0;32m----> 5\u001b[0m intersection_point \u001b[38;5;241m=\u001b[39m \u001b[43mfind_intersection\u001b[49m\u001b[43m(\u001b[49m\u001b[43maffine_subspace_A\u001b[49m\u001b[43m,\u001b[49m\u001b[43m \u001b[49m\u001b[43maffine_subspace_B\u001b[49m\u001b[43m)\u001b[49m\n\u001b[1;32m      7\u001b[0m \u001b[38;5;28;01mif\u001b[39;00m intersection_point \u001b[38;5;129;01mis\u001b[39;00m \u001b[38;5;129;01mnot\u001b[39;00m \u001b[38;5;28;01mNone\u001b[39;00m:\n\u001b[1;32m      8\u001b[0m     \u001b[38;5;28mprint\u001b[39m(\u001b[38;5;124m\"\u001b[39m\u001b[38;5;124mIntersection Point:\u001b[39m\u001b[38;5;124m\"\u001b[39m, intersection_point)\n",
      "Cell \u001b[0;32mIn[3], line 20\u001b[0m, in \u001b[0;36mfind_intersection\u001b[0;34m(affine_subspace_A, affine_subspace_B)\u001b[0m\n\u001b[1;32m     17\u001b[0m bounds \u001b[38;5;241m=\u001b[39m [(\u001b[38;5;241m0\u001b[39m, \u001b[38;5;28;01mNone\u001b[39;00m) \u001b[38;5;28;01mfor\u001b[39;00m _ \u001b[38;5;129;01min\u001b[39;00m \u001b[38;5;28mrange\u001b[39m(direction_vectors_A\u001b[38;5;241m.\u001b[39mshape[\u001b[38;5;241m1\u001b[39m] \u001b[38;5;241m+\u001b[39m direction_vectors_B\u001b[38;5;241m.\u001b[39mshape[\u001b[38;5;241m1\u001b[39m])]\n\u001b[1;32m     19\u001b[0m \u001b[38;5;66;03m# Solve the linear program\u001b[39;00m\n\u001b[0;32m---> 20\u001b[0m res \u001b[38;5;241m=\u001b[39m \u001b[43mlinprog\u001b[49m\u001b[43m(\u001b[49m\u001b[43mc\u001b[49m\u001b[43m,\u001b[49m\u001b[43m \u001b[49m\u001b[43mA_eq\u001b[49m\u001b[38;5;241;43m=\u001b[39;49m\u001b[43mA_eq\u001b[49m\u001b[43m,\u001b[49m\u001b[43m \u001b[49m\u001b[43mb_eq\u001b[49m\u001b[38;5;241;43m=\u001b[39;49m\u001b[43mb_eq\u001b[49m\u001b[43m,\u001b[49m\u001b[43m \u001b[49m\u001b[43mbounds\u001b[49m\u001b[38;5;241;43m=\u001b[39;49m\u001b[43mbounds\u001b[49m\u001b[43m)\u001b[49m\n\u001b[1;32m     22\u001b[0m \u001b[38;5;28;01mif\u001b[39;00m res\u001b[38;5;241m.\u001b[39msuccess:\n\u001b[1;32m     23\u001b[0m     \u001b[38;5;66;03m# If the linear program converges, calculate the intersection point\u001b[39;00m\n\u001b[1;32m     24\u001b[0m     intersection_point \u001b[38;5;241m=\u001b[39m origin_A \u001b[38;5;241m+\u001b[39m np\u001b[38;5;241m.\u001b[39mdot(direction_vectors_A, res\u001b[38;5;241m.\u001b[39mx[:direction_vectors_A\u001b[38;5;241m.\u001b[39mshape[\u001b[38;5;241m1\u001b[39m]])\n",
      "File \u001b[0;32m~/i2dl/lib/python3.10/site-packages/scipy/optimize/_linprog.py:626\u001b[0m, in \u001b[0;36mlinprog\u001b[0;34m(c, A_ub, b_ub, A_eq, b_eq, bounds, method, callback, options, x0, integrality)\u001b[0m\n\u001b[1;32m    623\u001b[0m     integrality \u001b[38;5;241m=\u001b[39m np\u001b[38;5;241m.\u001b[39mbroadcast_to(integrality, np\u001b[38;5;241m.\u001b[39mshape(c))\n\u001b[1;32m    625\u001b[0m lp \u001b[38;5;241m=\u001b[39m _LPProblem(c, A_ub, b_ub, A_eq, b_eq, bounds, x0, integrality)\n\u001b[0;32m--> 626\u001b[0m lp, solver_options \u001b[38;5;241m=\u001b[39m \u001b[43m_parse_linprog\u001b[49m\u001b[43m(\u001b[49m\u001b[43mlp\u001b[49m\u001b[43m,\u001b[49m\u001b[43m \u001b[49m\u001b[43moptions\u001b[49m\u001b[43m,\u001b[49m\u001b[43m \u001b[49m\u001b[43mmeth\u001b[49m\u001b[43m)\u001b[49m\n\u001b[1;32m    627\u001b[0m tol \u001b[38;5;241m=\u001b[39m solver_options\u001b[38;5;241m.\u001b[39mget(\u001b[38;5;124m'\u001b[39m\u001b[38;5;124mtol\u001b[39m\u001b[38;5;124m'\u001b[39m, \u001b[38;5;241m1e-9\u001b[39m)\n\u001b[1;32m    629\u001b[0m \u001b[38;5;66;03m# Give unmodified problem to HiGHS\u001b[39;00m\n",
      "File \u001b[0;32m~/i2dl/lib/python3.10/site-packages/scipy/optimize/_linprog_util.py:1026\u001b[0m, in \u001b[0;36m_parse_linprog\u001b[0;34m(lp, options, meth)\u001b[0m\n\u001b[1;32m   1023\u001b[0m solver_options, A_ub, A_eq \u001b[38;5;241m=\u001b[39m _check_sparse_inputs(solver_options, meth,\n\u001b[1;32m   1024\u001b[0m                                                   lp\u001b[38;5;241m.\u001b[39mA_ub, lp\u001b[38;5;241m.\u001b[39mA_eq)\n\u001b[1;32m   1025\u001b[0m \u001b[38;5;66;03m# Convert lists to numpy arrays, etc...\u001b[39;00m\n\u001b[0;32m-> 1026\u001b[0m lp \u001b[38;5;241m=\u001b[39m \u001b[43m_clean_inputs\u001b[49m\u001b[43m(\u001b[49m\u001b[43mlp\u001b[49m\u001b[38;5;241;43m.\u001b[39;49m\u001b[43m_replace\u001b[49m\u001b[43m(\u001b[49m\u001b[43mA_ub\u001b[49m\u001b[38;5;241;43m=\u001b[39;49m\u001b[43mA_ub\u001b[49m\u001b[43m,\u001b[49m\u001b[43m \u001b[49m\u001b[43mA_eq\u001b[49m\u001b[38;5;241;43m=\u001b[39;49m\u001b[43mA_eq\u001b[49m\u001b[43m)\u001b[49m\u001b[43m)\u001b[49m\n\u001b[1;32m   1027\u001b[0m \u001b[38;5;28;01mreturn\u001b[39;00m lp, solver_options\n",
      "File \u001b[0;32m~/i2dl/lib/python3.10/site-packages/scipy/optimize/_linprog_util.py:378\u001b[0m, in \u001b[0;36m_clean_inputs\u001b[0;34m(lp)\u001b[0m\n\u001b[1;32m    376\u001b[0m \u001b[38;5;28;01melse\u001b[39;00m:\n\u001b[1;32m    377\u001b[0m     \u001b[38;5;28;01mif\u001b[39;00m b_eq\u001b[38;5;241m.\u001b[39mshape \u001b[38;5;241m!=\u001b[39m (n_eq,):\n\u001b[0;32m--> 378\u001b[0m         \u001b[38;5;28;01mraise\u001b[39;00m \u001b[38;5;167;01mValueError\u001b[39;00m(\n\u001b[1;32m    379\u001b[0m             \u001b[38;5;124m\"\u001b[39m\u001b[38;5;124mInvalid input for linprog: b_eq must be a 1-D array; b_eq \u001b[39m\u001b[38;5;124m\"\u001b[39m\n\u001b[1;32m    380\u001b[0m             \u001b[38;5;124m\"\u001b[39m\u001b[38;5;124mmust not have more than one non-singleton dimension and \u001b[39m\u001b[38;5;124m\"\u001b[39m\n\u001b[1;32m    381\u001b[0m             \u001b[38;5;124m\"\u001b[39m\u001b[38;5;124mthe number of rows in A_eq must equal the number of values \u001b[39m\u001b[38;5;124m\"\u001b[39m\n\u001b[1;32m    382\u001b[0m             \u001b[38;5;124m\"\u001b[39m\u001b[38;5;124min b_eq\u001b[39m\u001b[38;5;124m\"\u001b[39m)\n\u001b[1;32m    383\u001b[0m     \u001b[38;5;28;01mif\u001b[39;00m \u001b[38;5;129;01mnot\u001b[39;00m np\u001b[38;5;241m.\u001b[39misfinite(b_eq)\u001b[38;5;241m.\u001b[39mall():\n\u001b[1;32m    384\u001b[0m         \u001b[38;5;28;01mraise\u001b[39;00m \u001b[38;5;167;01mValueError\u001b[39;00m(\n\u001b[1;32m    385\u001b[0m             \u001b[38;5;124m\"\u001b[39m\u001b[38;5;124mInvalid input for linprog: b_eq must not contain values \u001b[39m\u001b[38;5;124m\"\u001b[39m\n\u001b[1;32m    386\u001b[0m             \u001b[38;5;124m\"\u001b[39m\u001b[38;5;124minf, nan, or None\u001b[39m\u001b[38;5;124m\"\u001b[39m)\n",
      "\u001b[0;31mValueError\u001b[0m: Invalid input for linprog: b_eq must be a 1-D array; b_eq must not have more than one non-singleton dimension and the number of rows in A_eq must equal the number of values in b_eq"
     ]
    }
   ],
   "source": [
    "# Example usage\n",
    "affine_subspace_A = (np.array([0, 0, 0]), np.array([[0, 1, 1]]))\n",
    "affine_subspace_B = (np.array([0, 0, 0]), np.array([[0, -1, 1]]))\n",
    "\n",
    "intersection_point = find_intersection(affine_subspace_A, affine_subspace_B)\n",
    "\n",
    "if intersection_point is not None:\n",
    "    print(\"Intersection Point:\", intersection_point)\n",
    "else:\n",
    "    print(\"No intersection found.\")"
   ]
  },
  {
   "cell_type": "code",
   "execution_count": null,
   "id": "a267aaac",
   "metadata": {},
   "outputs": [],
   "source": []
  }
 ],
 "metadata": {
  "kernelspec": {
   "display_name": "Python 3 (ipykernel)",
   "language": "python",
   "name": "python3"
  },
  "language_info": {
   "codemirror_mode": {
    "name": "ipython",
    "version": 3
   },
   "file_extension": ".py",
   "mimetype": "text/x-python",
   "name": "python",
   "nbconvert_exporter": "python",
   "pygments_lexer": "ipython3",
   "version": "3.10.11"
  }
 },
 "nbformat": 4,
 "nbformat_minor": 5
}
