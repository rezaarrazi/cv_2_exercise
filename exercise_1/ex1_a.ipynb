{
 "cells": [
  {
   "cell_type": "code",
   "execution_count": 1,
   "id": "4bcb49ba",
   "metadata": {},
   "outputs": [],
   "source": [
    "import numpy as np"
   ]
  },
  {
   "cell_type": "code",
   "execution_count": 2,
   "id": "599d3839",
   "metadata": {},
   "outputs": [],
   "source": [
    "def swap_rows(matrix, row1, row2):\n",
    "    print(\"S\", row1, row2)\n",
    "    matrix[[row1, row2]] = matrix[[row2, row1]]\n",
    "\n",
    "def gaussian_elimination_inverse(matrix):\n",
    "    n = len(matrix)\n",
    "    augmented_matrix = np.hstack((matrix, np.identity(n)))\n",
    "\n",
    "    for i in range(n):\n",
    "        # Find the pivot row and swap rows if necessary\n",
    "        max_index = np.argmax(np.abs(augmented_matrix[i:, i])) + i\n",
    "        if max_index != i:\n",
    "            swap_rows(augmented_matrix, i, max_index)\n",
    "\n",
    "        # Check if the matrix is singular (non-invertible)\n",
    "        if augmented_matrix[i, i] == 0:\n",
    "            raise ValueError(\"The input matrix is singular and non-invertible.\")\n",
    "\n",
    "        # Normalize the pivot row\n",
    "        augmented_matrix[i] /= augmented_matrix[i, i]\n",
    "\n",
    "        # Eliminate the pivot entry in other rows\n",
    "        for j in range(n):\n",
    "            if j != i:\n",
    "                factor = -augmented_matrix[j, i]\n",
    "                augmented_matrix[j] += factor * augmented_matrix[i]\n",
    "\n",
    "    inverse_matrix = augmented_matrix[:, n:]\n",
    "    return inverse_matrix"
   ]
  },
  {
   "cell_type": "code",
   "execution_count": 3,
   "id": "a86a1f4d",
   "metadata": {},
   "outputs": [],
   "source": [
    "# Example usage\n",
    "A = np.array([[3, 2], [1, 1]])"
   ]
  },
  {
   "cell_type": "code",
   "execution_count": 4,
   "id": "edd3cd1b",
   "metadata": {},
   "outputs": [
    {
     "data": {
      "text/plain": [
       "array([3, 2])"
      ]
     },
     "execution_count": 4,
     "metadata": {},
     "output_type": "execute_result"
    }
   ],
   "source": [
    "A[0]"
   ]
  },
  {
   "cell_type": "code",
   "execution_count": 5,
   "id": "2015f25c",
   "metadata": {},
   "outputs": [
    {
     "name": "stdout",
     "output_type": "stream",
     "text": [
      "A:\n",
      " [[3 2]\n",
      " [1 1]]\n",
      "Inverse of A:\n",
      " [[ 1. -2.]\n",
      " [-1.  3.]]\n"
     ]
    }
   ],
   "source": [
    "A_inv = gaussian_elimination_inverse(A)\n",
    "print(\"A:\\n\", A)\n",
    "print(\"Inverse of A:\\n\", A_inv)"
   ]
  },
  {
   "cell_type": "code",
   "execution_count": 6,
   "id": "4a3d8417",
   "metadata": {},
   "outputs": [
    {
     "data": {
      "text/plain": [
       "array([[ 1., -2.],\n",
       "       [-1.,  3.]])"
      ]
     },
     "execution_count": 6,
     "metadata": {},
     "output_type": "execute_result"
    }
   ],
   "source": [
    "from numpy.linalg import inv\n",
    "\n",
    "inv(A)"
   ]
  },
  {
   "cell_type": "code",
   "execution_count": 13,
   "id": "981715cf",
   "metadata": {},
   "outputs": [
    {
     "data": {
      "text/plain": [
       "'3 2'"
      ]
     },
     "execution_count": 13,
     "metadata": {},
     "output_type": "execute_result"
    }
   ],
   "source": [
    "' '.join(map(str, A[0]))"
   ]
  },
  {
   "cell_type": "code",
   "execution_count": 14,
   "id": "ce5a2e97",
   "metadata": {},
   "outputs": [
    {
     "name": "stdout",
     "output_type": "stream",
     "text": [
      "2\n",
      "3 2\n",
      "[3.0, 2.0]\n",
      "1 1\n",
      "[1.0, 1.0]\n"
     ]
    }
   ],
   "source": [
    "n = int(input())\n",
    "\n",
    "arr = []\n",
    "for r in range(n):\n",
    "    inp = list(map(float, input().split()))\n",
    "    arr.append(np.array(inp))\n",
    "\n",
    "arr = np.array(arr)"
   ]
  },
  {
   "cell_type": "code",
   "execution_count": 15,
   "id": "dd7b3d8a",
   "metadata": {},
   "outputs": [
    {
     "data": {
      "text/plain": [
       "array([[3., 2.],\n",
       "       [1., 1.]])"
      ]
     },
     "execution_count": 15,
     "metadata": {},
     "output_type": "execute_result"
    }
   ],
   "source": [
    "arr"
   ]
  },
  {
   "cell_type": "code",
   "execution_count": null,
   "id": "b69ed784",
   "metadata": {},
   "outputs": [],
   "source": []
  }
 ],
 "metadata": {
  "kernelspec": {
   "display_name": "Python 3 (ipykernel)",
   "language": "python",
   "name": "python3"
  },
  "language_info": {
   "codemirror_mode": {
    "name": "ipython",
    "version": 3
   },
   "file_extension": ".py",
   "mimetype": "text/x-python",
   "name": "python",
   "nbconvert_exporter": "python",
   "pygments_lexer": "ipython3",
   "version": "3.10.11"
  }
 },
 "nbformat": 4,
 "nbformat_minor": 5
}
